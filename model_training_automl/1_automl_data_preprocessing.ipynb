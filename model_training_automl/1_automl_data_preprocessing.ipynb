{
  "cells": [
    {
      "cell_type": "markdown",
      "metadata": {
        "nteract": {
          "transient": {
            "deleting": false
          }
        }
      },
      "source": [
        "# Train an Automated Machine Learning Model for Trash Recycling using Instance Segmentation"
      ]
    },
    {
      "cell_type": "markdown",
      "metadata": {
        "nteract": {
          "transient": {
            "deleting": false
          }
        }
      },
      "source": [
        "## Get the data\n"
      ]
    },
    {
      "cell_type": "markdown",
      "metadata": {
        "nteract": {
          "transient": {
            "deleting": false
          }
        }
      },
      "source": [
        "First of all, you will need to get the TACO trash dataset that we will use for model training. You can download it under the following link: http://tacodataset.org/ . Please follow the instructions of the GitHub repository to download the images and COCO annotation file. \n",
        "\n",
        "Once you obtain the images, it is recommended to upload them into your Azure ML Blob Storage associated to this AzureML workspace through Azure Storage Explorer. Azure Storage Explorer allows you to upload/download and organise your files through a UI. It also allows us to train our models more efficiently as we will later read the training files from the associated storage account directly rather than from the local upload pane on the left hand side. To download Azure Storage Explorer, follow the following link: https://azure.microsoft.com/en-us/products/storage/storage-explorer/ . "
      ]
    },
    {
      "cell_type": "markdown",
      "metadata": {
        "nteract": {
          "transient": {
            "deleting": false
          }
        }
      },
      "source": [
        "## 1. Setup & Dependencies"
      ]
    },
    {
      "cell_type": "markdown",
      "metadata": {
        "nteract": {
          "transient": {
            "deleting": false
          }
        }
      },
      "source": [
        "You might need to go into the terminal and execute `conda activate azureml_py38_PT_TF` and then pip install your packages. Make sure you use the Python 3.8 - Pytorch and Tensorflow kernel\n",
        "\n",
        "Then, copy the requirements.txt, navigate into the folder where the file is located and execute `pip install -r requirements.txt` in the terminal to install the dependencies. "
      ]
    },
    {
      "cell_type": "code",
      "execution_count": 2,
      "metadata": {
        "gather": {
          "logged": 1664337400791
        }
      },
      "outputs": [],
      "source": [
        "%matplotlib inline\n",
        "\n",
        "import matplotlib.pyplot as plt\n",
        "import pandas as pd\n",
        "from PIL import Image\n",
        "import os\n",
        "from pathlib import Path\n",
        "\n",
        "# Import required libraries\n",
        "from azure.identity import DefaultAzureCredential\n",
        "from azure.ai.ml import MLClient\n",
        "\n",
        "from azure.ai.ml.constants import AssetTypes\n",
        "from azure.ai.ml import Input\n",
        "\n",
        "\n",
        "from azure.ai.ml.entities import Data\n",
        "from azure.ai.ml.constants import InputOutputModes\n",
        "from azure.ai.ml import automl\n",
        "\n",
        "# IMPORT CUSTOM FUNCTION LIBRARY\n",
        "from utils import *\n"
      ]
    },
    {
      "cell_type": "markdown",
      "metadata": {
        "nteract": {
          "transient": {
            "deleting": false
          }
        }
      },
      "source": [
        "## 1. Configure ML Client"
      ]
    },
    {
      "cell_type": "code",
      "execution_count": 3,
      "metadata": {
        "gather": {
          "logged": 1664337403745
        },
        "jupyter": {
          "outputs_hidden": false,
          "source_hidden": false
        },
        "nteract": {
          "transient": {
            "deleting": false
          }
        }
      },
      "outputs": [
        {
          "name": "stderr",
          "output_type": "stream",
          "text": [
            "Found the config file in: ./.azureml/config.json\n"
          ]
        }
      ],
      "source": [
        "credential = DefaultAzureCredential()\n",
        "ml_client = None\n",
        "\n",
        "try:\n",
        "    ml_client = MLClient.from_config(credential=credential)\n",
        "except Exception as ex:\n",
        "    # NOTE: Update following workspace information if not correctly configure before\n",
        "    client_config = {\n",
        "        \"subscription_id\": \"<SUBSCRIPTION ID>\",\n",
        "        \"resource_group\": \"<RG_NAME>\",\n",
        "        \"workspace_name\": \"<WORKSPACENAME>\",\n",
        "    }\n",
        "    if client_config[\"subscription_id\"].startswith(\"<\"):\n",
        "        print(\n",
        "            \"please update your <SUBSCRIPTION_ID> <RESOURCE_GROUP> <AML_WORKSPACE_NAME> in notebook cell\"\n",
        "        )\n",
        "        raise ex\n",
        "    else:  # write and reload from config file\n",
        "        import json, os\n",
        "        config_path = \"../.azureml/config.json\"\n",
        "        os.makedirs(os.path.dirname(config_path), exist_ok=True)\n",
        "        with open(config_path, \"w\") as fo:\n",
        "            fo.write(json.dumps(client_config))\n",
        "        ml_client = MLClient.from_config(credential=credential, path=config_path)\n",
        "print(ml_client)"
      ]
    },
    {
      "cell_type": "markdown",
      "metadata": {
        "nteract": {
          "transient": {
            "deleting": false
          }
        }
      },
      "source": [
        "## 2. Connect files from Storage Account into Azure Machine Learning Studio as versioned data asset"
      ]
    },
    {
      "cell_type": "markdown",
      "metadata": {
        "nteract": {
          "transient": {
            "deleting": false
          }
        }
      },
      "source": [
        "An overall explanation can be found under: https://learn.microsoft.com/en-us/azure/machine-learning/how-to-create-data-assets?tabs=cli . Please have a look at the specific visual summary for the TACO dataset in the image below. In a new tab, **please naviagte to the data tab in your Azure ML Studio on the left hand side and follow the steps as below. In this tutorial, we will register the dataset as \"coco_tabular_trash_data\"**\n",
        "\n",
        "<img src=\"media/link_dataset_from_storage_to_azureml.jpg\" width=\"800\"/>"
      ]
    },
    {
      "cell_type": "markdown",
      "metadata": {
        "nteract": {
          "transient": {
            "deleting": false
          }
        }
      },
      "source": [
        "## 1. Read data from datastore"
      ]
    },
    {
      "cell_type": "code",
      "execution_count": 4,
      "metadata": {
        "gather": {
          "logged": 1664337430632
        },
        "jupyter": {
          "outputs_hidden": false,
          "source_hidden": false
        },
        "nteract": {
          "transient": {
            "deleting": false
          }
        }
      },
      "outputs": [],
      "source": [
        "# azureml-core of version 1.0.72 or higher is required\n",
        "# azureml-dataprep[pandas] of version 1.1.34 or higher is required\n",
        "from azureml.core import Workspace, Dataset, Datastore\n",
        "import json\n",
        "\n",
        "workspace = Workspace.from_config()\n",
        "datastore = workspace.get_default_datastore()\n",
        "\n",
        "annotations = Dataset.get_by_name(workspace, name='coco_tabular_trash_data')\n",
        "annotations = annotations.to_pandas_dataframe()\n",
        "\n",
        "#Convert back to .json file\n",
        "annotations = json.loads(annotations[\"Line\"][0])\n",
        "\n",
        "#create new data directory\n",
        "Path(f\"./data\").mkdir(parents=True, exist_ok=True)\n",
        "\n",
        "with open('./data/TACO_data.json', 'w+') as f:\n",
        "    json.dump(annotations, f)\n"
      ]
    },
    {
      "cell_type": "markdown",
      "metadata": {
        "nteract": {
          "transient": {
            "deleting": false
          }
        }
      },
      "source": [
        "You should now see the `./data/TACO_data.json` file in you document tree"
      ]
    },
    {
      "cell_type": "markdown",
      "metadata": {
        "nteract": {
          "transient": {
            "deleting": false
          }
        }
      },
      "source": [
        "## 2 Convert files into JSONL\n",
        "\n",
        "Azure Automated Machine Learning requires JSONL files. Please refer to the following documentation for more details: https://learn.microsoft.com/en-us/azure/machine-learning/reference-automl-images-schema"
      ]
    },
    {
      "cell_type": "markdown",
      "metadata": {
        "nteract": {
          "transient": {
            "deleting": false
          }
        }
      },
      "source": [
        "```\n",
        "{\n",
        "   \"image_url\":\"azureml://subscriptions/<my-subscription-id>/resourcegroups/<my-resource-group>/workspaces/<my-workspace>/datastores/<my-datastore>/paths/<path_to_image>\",\n",
        "   \"image_details\":{\n",
        "      \"format\":\"image_format\",\n",
        "      \"width\":\"image_width\",\n",
        "      \"height\":\"image_height\"\n",
        "   },\n",
        "   \"label\":[\n",
        "      {\n",
        "         \"label\":\"class_name\",\n",
        "         \"isCrowd\":\"isCrowd\",\n",
        "         \"polygon\":[[\"x1\", \"y1\", \"x2\", \"y2\", \"x3\", \"y3\", \"...\", \"xn\", \"yn\"]]\n",
        "      }\n",
        "   ]\n",
        "}"
      ]
    },
    {
      "cell_type": "code",
      "execution_count": 5,
      "metadata": {
        "gather": {
          "logged": 1664337493677
        },
        "jupyter": {
          "outputs_hidden": false,
          "source_hidden": false
        },
        "nteract": {
          "transient": {
            "deleting": false
          }
        }
      },
      "outputs": [],
      "source": [
        "base_path = \"azureml://subscriptions/<subscriptionid>/resourcegroups/<resouce_group>/workspaces/<workspacename>/datastores/workspaceblobstore/paths/<path of TACO dataset>\"\n",
        "# base path should end with \"TACO_Images/data\"\n",
        "\n",
        "\n",
        "# Convert files into JSONL format required for AutoML. This function comes from utils\n",
        "# Function can run up to a minute\n",
        "generate_jsonl_annotations(source=annotations, target_path=base_path, annotation_file=\"./data/TACO_segmentation.jsonl\")"
      ]
    },
    {
      "cell_type": "markdown",
      "metadata": {
        "nteract": {
          "transient": {
            "deleting": false
          }
        }
      },
      "source": [
        "You should now see the `./data/TACO_segmentation.jsonl` file in you document tree"
      ]
    },
    {
      "cell_type": "markdown",
      "metadata": {
        "nteract": {
          "transient": {
            "deleting": false
          }
        }
      },
      "source": [
        "## 3. Split JSONL into train and evaluation sets\n",
        "First, we'll need to split the images into train and eval sets. We'll put aside 20% of the data for evaluation and will use random sampling to split the datasets.\n",
        "To better analyse the label distributions, we will create a pandas dataframe that shows us the overall distribution of the trash classes present."
      ]
    },
    {
      "cell_type": "code",
      "execution_count": 6,
      "metadata": {
        "gather": {
          "logged": 1664337507645
        },
        "jupyter": {
          "outputs_hidden": false,
          "source_hidden": false
        },
        "nteract": {
          "transient": {
            "deleting": false
          }
        }
      },
      "outputs": [],
      "source": [
        "import json\n",
        "\n",
        "with open('./data/TACO_segmentation.jsonl', 'r') as json_file:\n",
        "    json_list = list(json_file)\n",
        "df_jsonl = pd.DataFrame(json_list)\n",
        "\n",
        "urls = []\n",
        "labels = []\n",
        "image_id = []\n",
        "\n",
        "for ii in range(len(df_jsonl)):\n",
        "    url = json.loads(df_jsonl[0][ii])[\"image_url\"]\n",
        "    l = json.loads(df_jsonl[0][ii])[\"label\"]\n",
        "    id = json.loads(df_jsonl[0][ii])[\"image_url\"][-10:]\n",
        "    for jj in range(len(l)):\n",
        "        labels.append(l[jj][\"label\"])\n",
        "        urls.append(url)\n",
        "        image_id.append(id)\n",
        "\n",
        "df = pd.DataFrame([urls, labels, image_id]).T\n",
        "df.columns = [\"url\", \"label\", \"image_id\"]\n"
      ]
    },
    {
      "cell_type": "markdown",
      "metadata": {
        "nteract": {
          "transient": {
            "deleting": false
          }
        }
      },
      "source": [
        "## 3.1. Test-train split "
      ]
    },
    {
      "cell_type": "code",
      "execution_count": 10,
      "metadata": {
        "gather": {
          "logged": 1664337682911
        },
        "jupyter": {
          "outputs_hidden": false,
          "source_hidden": false
        },
        "nteract": {
          "transient": {
            "deleting": false
          }
        }
      },
      "outputs": [],
      "source": [
        "# split random samples\n",
        "#For testing if you want to limit the data to a smaller subset -> remove the variable smaller subset an replace with df for full model training\n",
        "#smaller_subset = df.sample(frac=0.2)\n",
        "\n",
        "train = df.sample(frac=0.8)\n",
        "test = df[~df.index.isin(list(train.index))]\n",
        "assert len(train) + len(test) == len(df)"
      ]
    },
    {
      "cell_type": "code",
      "execution_count": 12,
      "metadata": {
        "gather": {
          "logged": 1664337711235
        },
        "jupyter": {
          "outputs_hidden": false,
          "source_hidden": false
        },
        "nteract": {
          "transient": {
            "deleting": false
          }
        }
      },
      "outputs": [
        {
          "data": {
            "image/png": "[encoded data removed]",
            "text/plain": [
              "<Figure size 432x288 with 1 Axes>"
            ]
          },
          "metadata": {
            "needs_background": "light"
          },
          "output_type": "display_data"
        },
        {
          "data": {
            "image/png": "[encoded data removed]",
            "text/plain": [
              "<Figure size 432x288 with 1 Axes>"
            ]
          },
          "metadata": {
            "needs_background": "light"
          },
          "output_type": "display_data"
        }
      ],
      "source": [
        "# Sanity check for similar class distributions between training and evaluation set\n",
        "\n",
        "for i in [train, test]:\n",
        "    i.label.value_counts().plot(kind=\"bar\")\n",
        "    plt.title(\"Class distribution of trash items\")\n",
        "    plt.show()"
      ]
    },
    {
      "cell_type": "markdown",
      "metadata": {
        "nteract": {
          "transient": {
            "deleting": false
          }
        }
      },
      "source": [
        "The distributions looks similar and we can now move on to save the datasets into our workspace blov storage for later consumption within AutoML "
      ]
    },
    {
      "cell_type": "markdown",
      "metadata": {
        "nteract": {
          "transient": {
            "deleting": false
          }
        }
      },
      "source": [
        "## 3.2. Reformat test/train partitions into JSONL which is the necessary AutoML training file format"
      ]
    },
    {
      "cell_type": "code",
      "execution_count": 13,
      "metadata": {
        "gather": {
          "logged": 1664337753622
        },
        "jupyter": {
          "outputs_hidden": false,
          "source_hidden": false
        },
        "nteract": {
          "transient": {
            "deleting": false
          }
        }
      },
      "outputs": [],
      "source": [
        "from pathlib import Path\n",
        "\n",
        "train_dict = []\n",
        "test_dict = []\n",
        "train_images = list(train[\"url\"])\n",
        "test_images = list(test[\"url\"])\n",
        "df_len = len(json_list)\n",
        "\n",
        "for ii in range(df_len):\n",
        "    tt = json.loads(json_list[ii])[\"image_url\"]\n",
        "    if tt in train_images:\n",
        "        train_dict.append(json.loads(json_list[ii]))\n",
        "    if tt in test_images:\n",
        "        test_dict.append(json.loads(json_list[ii]))\n"
      ]
    },
    {
      "cell_type": "code",
      "execution_count": 14,
      "metadata": {
        "gather": {
          "logged": 1664337778906
        },
        "jupyter": {
          "outputs_hidden": false,
          "source_hidden": false
        },
        "nteract": {
          "transient": {
            "deleting": false
          }
        }
      },
      "outputs": [],
      "source": [
        "\n",
        "#LOCAL UPLOAD INTO FILESHARE\n",
        "train_path = \"./data/train_formatted\"\n",
        "validation_path = \"./data/validation_formatted\"\n",
        "\n",
        "Path(train_path).mkdir(parents=True, exist_ok=True)\n",
        "Path(validation_path).mkdir(parents=True, exist_ok=True)\n",
        "\n",
        "with open(f'{train_path}/training_data.jsonl', 'w') as f:\n",
        "    for item in train_dict:\n",
        "        f.write(json.dumps(item) + \"\\n\")\n",
        "\n",
        "\n",
        "with open(f'{validation_path}/eval_data.jsonl', 'w') as f:\n",
        "    for item in test_dict:\n",
        "        f.write(json.dumps(item) + \"\\n\")"
      ]
    },
    {
      "cell_type": "markdown",
      "metadata": {
        "nteract": {
          "transient": {
            "deleting": false
          }
        }
      },
      "source": [
        "# 3.3. Write MLTable files as those are the neseccary metadata files for AutoML model training"
      ]
    },
    {
      "cell_type": "code",
      "execution_count": 15,
      "metadata": {
        "jupyter": {
          "outputs_hidden": false,
          "source_hidden": false
        },
        "nteract": {
          "transient": {
            "deleting": false
          }
        }
      },
      "outputs": [
        {
          "name": "stdout",
          "output_type": "stream",
          "text": [
            "Writing ./data/train_formatted/MLTable\n"
          ]
        }
      ],
      "source": [
        "%%writefile ./data/train_formatted/MLTable\n",
        "paths:\n",
        "  - file: ./training_data.jsonl\n",
        "transformations:\n",
        "  - read_json_lines:\n",
        "        encoding: utf8\n",
        "        invalid_lines: error\n",
        "        include_path_column: false\n",
        "  - convert_column_types:\n",
        "      - columns: image_url\n",
        "        column_type: stream_info"
      ]
    },
    {
      "cell_type": "code",
      "execution_count": 16,
      "metadata": {
        "jupyter": {
          "outputs_hidden": false,
          "source_hidden": false
        },
        "nteract": {
          "transient": {
            "deleting": false
          }
        }
      },
      "outputs": [
        {
          "name": "stdout",
          "output_type": "stream",
          "text": [
            "Writing ./data/validation_formatted/MLTable\n"
          ]
        }
      ],
      "source": [
        "%%writefile ./data/validation_formatted/MLTable\n",
        "paths:\n",
        "  - file: ./eval_data.jsonl\n",
        "transformations:\n",
        "  - read_json_lines:\n",
        "        encoding: utf8\n",
        "        invalid_lines: error\n",
        "        include_path_column: false\n",
        "  - convert_column_types:\n",
        "      - columns: image_url\n",
        "        column_type: stream_info"
      ]
    },
    {
      "cell_type": "markdown",
      "metadata": {
        "nteract": {
          "transient": {
            "deleting": false
          }
        }
      },
      "source": [
        "# 4. Upload data into Blobstorage"
      ]
    },
    {
      "cell_type": "code",
      "execution_count": 17,
      "metadata": {
        "gather": {
          "logged": 1664338042183
        },
        "jupyter": {
          "outputs_hidden": false,
          "source_hidden": false
        },
        "nteract": {
          "transient": {
            "deleting": false
          }
        }
      },
      "outputs": [
        {
          "name": "stderr",
          "output_type": "stream",
          "text": [
            "\u001b[32mUploading train_formatted (4.99 MBs): 100%|██████████| 4994184/4994184 [00:00<00:00, 17033715.06it/s]\n",
            "\u001b[39m\n",
            "\n",
            "\u001b[32mUploading validation_formatted (2.82 MBs): 100%|██████████| 2817566/2817566 [00:00<00:00, 37884619.94it/s]\n",
            "\u001b[39m\n",
            "\n"
          ]
        }
      ],
      "source": [
        "# UPLOAD INTO DATASTORE \n",
        "\n",
        "my_data_train = Data(\n",
        "    path=train_path,\n",
        "    type=AssetTypes.URI_FOLDER,\n",
        "    description=\"train_formatted\",\n",
        "    name=\"train_trash_jsonl\",\n",
        ")\n",
        "\n",
        "my_data_val = Data(\n",
        "    path=validation_path,\n",
        "    type=AssetTypes.URI_FOLDER,\n",
        "    description=\"val_formatted\",\n",
        "    name=\"val_trash_jsonl\",\n",
        ")\n",
        "\n",
        "\n",
        "uri_folder_data_asset_train = ml_client.data.create_or_update(my_data_train)\n",
        "uri_folder_data_asset_val = ml_client.data.create_or_update(my_data_val)\n",
        "\n",
        "print(uri_folder_data_asset_train)\n",
        "print(\"\")\n",
        "print(\"Path to folder in Blob Storage:\")\n",
        "print(uri_folder_data_asset_train.path)\n",
        "\n",
        "print(uri_folder_data_asset_val)\n",
        "print(\"\")\n",
        "print(\"Path to folder in Blob Storage:\")\n",
        "print(uri_folder_data_asset_val.path)"
      ]
    }
  ],
  "metadata": {
    "kernel_info": {
      "name": "python38-azureml-pt-tf"
    },
    "kernelspec": {
      "display_name": "Python 3.9.13 64-bit (microsoft store)",
      "language": "python",
      "name": "python3"
    },
    "language_info": {
      "codemirror_mode": {
        "name": "ipython",
        "version": 3
      },
      "file_extension": ".py",
      "mimetype": "text/x-python",
      "name": "python",
      "nbconvert_exporter": "python",
      "pygments_lexer": "ipython3",
      "version": "3.9.13"
    },
    "microsoft": {
      "host": {
        "AzureML": {
          "notebookHasBeenCompleted": true
        }
      }
    },
    "nteract": {
      "version": "nteract-front-end@1.0.0"
    },
    "vscode": {
      "interpreter": {
        "hash": "7013818eacae818f3940355a4bc23a5b5e4daa7053faee37a40d29ac79fa390b"
      }
    }
  },
  "nbformat": 4,
  "nbformat_minor": 2
}
